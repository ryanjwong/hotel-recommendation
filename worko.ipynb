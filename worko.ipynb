{
 "cells": [
  {
   "cell_type": "code",
   "execution_count": 1,
   "metadata": {},
   "outputs": [],
   "source": [
    "import pandas as pd\n",
    "import numpy as np"
   ]
  },
  {
   "cell_type": "markdown",
   "metadata": {},
   "source": [
    "# Loading in Data"
   ]
  },
  {
   "cell_type": "code",
   "execution_count": 2,
   "metadata": {},
   "outputs": [],
   "source": [
    "# hotel_review = pd.read_csv('Hotel_Reviews.csv')\n",
    "# hotel_review_sample = hotel_review.sample(frac=0.2, random_state = 42)\n",
    "# hotel_review_sample.to_csv(\"hotel_review_sample.csv\", index = False)"
   ]
  },
  {
   "cell_type": "code",
   "execution_count": 3,
   "metadata": {},
   "outputs": [],
   "source": [
    "hotel_review_sample = pd.read_csv(\"hotel_review_sample.csv\")"
   ]
  },
  {
   "cell_type": "code",
   "execution_count": 4,
   "metadata": {},
   "outputs": [],
   "source": [
    "hotel_prices = pd.read_csv('booking_bcn1.csv', index_col = 0)"
   ]
  },
  {
   "cell_type": "markdown",
   "metadata": {},
   "source": [
    "Checking to see how many hotel names match"
   ]
  },
  {
   "cell_type": "code",
   "execution_count": 5,
   "metadata": {},
   "outputs": [],
   "source": [
    "hotel_review_sample['name_processed'] = hotel_review_sample['Hotel_Name'].str.strip().str.lower()\n",
    "\n",
    "drop_cols = [\n",
    "    'Hotel_Name'\n",
    "]\n",
    "\n",
    "hotel_review_sample = hotel_review_sample.drop(columns=drop_cols)"
   ]
  },
  {
   "cell_type": "code",
   "execution_count": 6,
   "metadata": {},
   "outputs": [],
   "source": [
    "hotel_prices['name_processed'] = hotel_prices['Hotels'].str.lower().str.split()\n",
    "\n",
    "drop_cols = [\n",
    "    'Hotels'\n",
    "]\n",
    "\n",
    "hotel_prices = hotel_prices.drop(columns=drop_cols)"
   ]
  },
  {
   "cell_type": "code",
   "execution_count": 7,
   "metadata": {},
   "outputs": [
    {
     "name": "stdout",
     "output_type": "stream",
     "text": [
      "Number of matching hotel names: 96\n"
     ]
    }
   ],
   "source": [
    "hotel_prices['name_processed'] = hotel_prices['name_processed'].apply(lambda x: ' '.join(x) if isinstance(x, list) else x)\n",
    "matching_hotels = set(hotel_prices['name_processed']).intersection(set(hotel_review_sample['name_processed']))\n",
    "\n",
    "# Count the number of matches\n",
    "num_matches = len(matching_hotels)\n",
    "\n",
    "print(f\"Number of matching hotel names: {num_matches}\")\n"
   ]
  },
  {
   "cell_type": "markdown",
   "metadata": {},
   "source": [
    "Getting rid of columns we don't need"
   ]
  },
  {
   "cell_type": "code",
   "execution_count": 8,
   "metadata": {},
   "outputs": [
    {
     "data": {
      "text/plain": [
       "Index(['Hotel_Address', 'Additional_Number_of_Scoring', 'Review_Date',\n",
       "       'Average_Score', 'Reviewer_Nationality', 'Negative_Review',\n",
       "       'Review_Total_Negative_Word_Counts', 'Total_Number_of_Reviews',\n",
       "       'Positive_Review', 'Review_Total_Positive_Word_Counts',\n",
       "       'Total_Number_of_Reviews_Reviewer_Has_Given', 'Reviewer_Score', 'Tags',\n",
       "       'days_since_review', 'lat', 'lng', 'name_processed'],\n",
       "      dtype='object')"
      ]
     },
     "execution_count": 8,
     "metadata": {},
     "output_type": "execute_result"
    }
   ],
   "source": [
    "hotel_review_sample.columns"
   ]
  },
  {
   "cell_type": "code",
   "execution_count": 9,
   "metadata": {},
   "outputs": [],
   "source": [
    "drop_cols = [\n",
    "    'Hotel_Address', \n",
    "    'Additional_Number_of_Scoring', \n",
    "    'Review_Date', \n",
    "    'Average_Score', \n",
    "    'Reviewer_Nationality', \n",
    "    'Total_Number_of_Reviews', \n",
    "    'Tags', \n",
    "    'days_since_review', \n",
    "    'lat', \n",
    "    'lng'\n",
    "]\n",
    "\n",
    "hotel_review_sample = hotel_review_sample.drop(columns=drop_cols)"
   ]
  },
  {
   "cell_type": "code",
   "execution_count": 10,
   "metadata": {},
   "outputs": [],
   "source": [
    "merged_df = hotel_review_sample.merge(\n",
    "    hotel_prices, on=\"name_processed\", how=\"inner\"\n",
    ")\n"
   ]
  },
  {
   "cell_type": "code",
   "execution_count": 11,
   "metadata": {},
   "outputs": [
    {
     "data": {
      "text/plain": [
       "Index(['Negative_Review', 'Review_Total_Negative_Word_Counts',\n",
       "       'Positive_Review', 'Review_Total_Positive_Word_Counts',\n",
       "       'Total_Number_of_Reviews_Reviewer_Has_Given', 'Reviewer_Score',\n",
       "       'name_processed', 'Prices', 'Descriptions', 'Full_Descriptions'],\n",
       "      dtype='object')"
      ]
     },
     "execution_count": 11,
     "metadata": {},
     "output_type": "execute_result"
    }
   ],
   "source": [
    "# merged_df\n",
    "merged_df.columns"
   ]
  },
  {
   "cell_type": "code",
   "execution_count": 12,
   "metadata": {},
   "outputs": [
    {
     "name": "stdout",
     "output_type": "stream",
     "text": [
      "Negative_Review                               0\n",
      "Review_Total_Negative_Word_Counts             0\n",
      "Positive_Review                               0\n",
      "Review_Total_Positive_Word_Counts             0\n",
      "Total_Number_of_Reviews_Reviewer_Has_Given    0\n",
      "Reviewer_Score                                0\n",
      "name_processed                                0\n",
      "Prices                                        0\n",
      "Descriptions                                  0\n",
      "Full_Descriptions                             0\n",
      "dtype: int64\n"
     ]
    }
   ],
   "source": [
    "print(merged_df.isna().sum())  # See missing values\n"
   ]
  },
  {
   "cell_type": "code",
   "execution_count": 13,
   "metadata": {},
   "outputs": [],
   "source": [
    "merged_df = merged_df[['name_processed']+ ['Negative_Review', 'Review_Total_Negative_Word_Counts',\n",
    "       'Positive_Review', 'Review_Total_Positive_Word_Counts',\n",
    "       'Total_Number_of_Reviews_Reviewer_Has_Given', 'Reviewer_Score',\n",
    "        'Prices', 'Descriptions', 'Full_Descriptions']]"
   ]
  },
  {
   "cell_type": "code",
   "execution_count": 14,
   "metadata": {},
   "outputs": [
    {
     "data": {
      "text/plain": [
       "Index(['name_processed', 'Negative_Review',\n",
       "       'Review_Total_Negative_Word_Counts', 'Positive_Review',\n",
       "       'Review_Total_Positive_Word_Counts',\n",
       "       'Total_Number_of_Reviews_Reviewer_Has_Given', 'Reviewer_Score',\n",
       "       'Prices', 'Descriptions', 'Full_Descriptions'],\n",
       "      dtype='object')"
      ]
     },
     "execution_count": 14,
     "metadata": {},
     "output_type": "execute_result"
    }
   ],
   "source": [
    "merged_df.columns"
   ]
  },
  {
   "cell_type": "code",
   "execution_count": 15,
   "metadata": {},
   "outputs": [],
   "source": [
    "merged_df['Prices'] = merged_df['Prices'].str.replace('€', '', regex=True).str.replace(',', '', regex=True).str.strip().astype(float)"
   ]
  },
  {
   "cell_type": "code",
   "execution_count": 16,
   "metadata": {},
   "outputs": [
    {
     "data": {
      "text/plain": [
       "Index(['name_processed', 'Negative_Review',\n",
       "       'Review_Total_Negative_Word_Counts', 'Positive_Review',\n",
       "       'Review_Total_Positive_Word_Counts',\n",
       "       'Total_Number_of_Reviews_Reviewer_Has_Given', 'Reviewer_Score',\n",
       "       'Prices', 'Descriptions', 'Full_Descriptions'],\n",
       "      dtype='object')"
      ]
     },
     "execution_count": 16,
     "metadata": {},
     "output_type": "execute_result"
    }
   ],
   "source": [
    "merged_df.columns"
   ]
  },
  {
   "cell_type": "code",
   "execution_count": 17,
   "metadata": {},
   "outputs": [
    {
     "data": {
      "text/html": [
       "<div>\n",
       "<style scoped>\n",
       "    .dataframe tbody tr th:only-of-type {\n",
       "        vertical-align: middle;\n",
       "    }\n",
       "\n",
       "    .dataframe tbody tr th {\n",
       "        vertical-align: top;\n",
       "    }\n",
       "\n",
       "    .dataframe thead th {\n",
       "        text-align: right;\n",
       "    }\n",
       "</style>\n",
       "<table border=\"1\" class=\"dataframe\">\n",
       "  <thead>\n",
       "    <tr style=\"text-align: right;\">\n",
       "      <th></th>\n",
       "      <th>name_processed</th>\n",
       "      <th>Negative_Review</th>\n",
       "      <th>Review_Total_Negative_Word_Counts</th>\n",
       "      <th>Positive_Review</th>\n",
       "      <th>Review_Total_Positive_Word_Counts</th>\n",
       "      <th>Total_Number_of_Reviews_Reviewer_Has_Given</th>\n",
       "      <th>Reviewer_Score</th>\n",
       "      <th>Prices</th>\n",
       "      <th>Descriptions</th>\n",
       "      <th>Full_Descriptions</th>\n",
       "    </tr>\n",
       "  </thead>\n",
       "  <tbody>\n",
       "    <tr>\n",
       "      <th>0</th>\n",
       "      <td>room mate anna</td>\n",
       "      <td>Nothing to dislike</td>\n",
       "      <td>4</td>\n",
       "      <td>Location Culture bars and restaurants Transpo...</td>\n",
       "      <td>13</td>\n",
       "      <td>2</td>\n",
       "      <td>9.6</td>\n",
       "      <td>1418.0</td>\n",
       "      <td>1 double bed</td>\n",
       "      <td>Featuring a seasonal rooftop plunge pool with ...</td>\n",
       "    </tr>\n",
       "    <tr>\n",
       "      <th>1</th>\n",
       "      <td>hotel barcelona center</td>\n",
       "      <td>No Negative</td>\n",
       "      <td>0</td>\n",
       "      <td>The hotel was in a great spot near to everyth...</td>\n",
       "      <td>29</td>\n",
       "      <td>7</td>\n",
       "      <td>8.8</td>\n",
       "      <td>1584.0</td>\n",
       "      <td>Multiple bed types</td>\n",
       "      <td>Barcelona Center is 400 metres from Barcelona’...</td>\n",
       "    </tr>\n",
       "    <tr>\n",
       "      <th>2</th>\n",
       "      <td>hotel barcelona catedral</td>\n",
       "      <td>Due to the location and it being a very touri...</td>\n",
       "      <td>31</td>\n",
       "      <td>We had such a great experience here The staff...</td>\n",
       "      <td>138</td>\n",
       "      <td>1</td>\n",
       "      <td>10.0</td>\n",
       "      <td>2259.0</td>\n",
       "      <td>1 extra-large double bed</td>\n",
       "      <td>There is a gym and a rooftop chill-out terrace...</td>\n",
       "    </tr>\n",
       "    <tr>\n",
       "      <th>3</th>\n",
       "      <td>petit palace boqueria garden</td>\n",
       "      <td>No Negative</td>\n",
       "      <td>0</td>\n",
       "      <td>Free coffee if wanted during breakfast withou...</td>\n",
       "      <td>41</td>\n",
       "      <td>1</td>\n",
       "      <td>7.9</td>\n",
       "      <td>2068.0</td>\n",
       "      <td>Beds: 1 double or 2 singles</td>\n",
       "      <td>The Petit Palace Boqueria Garden is set in a h...</td>\n",
       "    </tr>\n",
       "    <tr>\n",
       "      <th>4</th>\n",
       "      <td>hotel ronda lesseps</td>\n",
       "      <td>Semi transparent wall of bathroom It cause un...</td>\n",
       "      <td>14</td>\n",
       "      <td>Easy to reach from and to airport by metro wi...</td>\n",
       "      <td>41</td>\n",
       "      <td>4</td>\n",
       "      <td>7.9</td>\n",
       "      <td>1352.0</td>\n",
       "      <td>1 double bed</td>\n",
       "      <td>The Hotel Ronda Lesseps is a quiet and familia...</td>\n",
       "    </tr>\n",
       "    <tr>\n",
       "      <th>...</th>\n",
       "      <td>...</td>\n",
       "      <td>...</td>\n",
       "      <td>...</td>\n",
       "      <td>...</td>\n",
       "      <td>...</td>\n",
       "      <td>...</td>\n",
       "      <td>...</td>\n",
       "      <td>...</td>\n",
       "      <td>...</td>\n",
       "      <td>...</td>\n",
       "    </tr>\n",
       "    <tr>\n",
       "      <th>6003</th>\n",
       "      <td>capri by fraser barcelona</td>\n",
       "      <td>There was a faint sewage smell in the bathroo...</td>\n",
       "      <td>24</td>\n",
       "      <td>Lovely studio and apartment hotel with large ...</td>\n",
       "      <td>43</td>\n",
       "      <td>13</td>\n",
       "      <td>9.6</td>\n",
       "      <td>1347.0</td>\n",
       "      <td>Beds: 1 double or 2 singles</td>\n",
       "      <td>This motorcycle-friendly hotel is 3 Metro stop...</td>\n",
       "    </tr>\n",
       "    <tr>\n",
       "      <th>6004</th>\n",
       "      <td>petit palace boqueria garden</td>\n",
       "      <td>The streets were very noisy from 3 6am No cof...</td>\n",
       "      <td>18</td>\n",
       "      <td>Great location</td>\n",
       "      <td>4</td>\n",
       "      <td>10</td>\n",
       "      <td>7.9</td>\n",
       "      <td>2068.0</td>\n",
       "      <td>Beds: 1 double or 2 singles</td>\n",
       "      <td>The Petit Palace Boqueria Garden is set in a h...</td>\n",
       "    </tr>\n",
       "    <tr>\n",
       "      <th>6005</th>\n",
       "      <td>hotel villa emilia</td>\n",
       "      <td>The room was ready early when we arrived afte...</td>\n",
       "      <td>21</td>\n",
       "      <td>Very nice hotel and extremely helpful and fri...</td>\n",
       "      <td>10</td>\n",
       "      <td>1</td>\n",
       "      <td>10.0</td>\n",
       "      <td>1607.0</td>\n",
       "      <td>Beds: 1 double or 2 singles</td>\n",
       "      <td>This stylish design hotel is located 150 metre...</td>\n",
       "    </tr>\n",
       "    <tr>\n",
       "      <th>6006</th>\n",
       "      <td>olivia balmes hotel</td>\n",
       "      <td>No Negative</td>\n",
       "      <td>0</td>\n",
       "      <td>Staff were lovely very useful The shower was ...</td>\n",
       "      <td>29</td>\n",
       "      <td>15</td>\n",
       "      <td>9.2</td>\n",
       "      <td>1904.0</td>\n",
       "      <td>Beds: 1 double or 2 singles</td>\n",
       "      <td>Offering an outdoor swimming pool, Olivia Balm...</td>\n",
       "    </tr>\n",
       "    <tr>\n",
       "      <th>6007</th>\n",
       "      <td>catalonia eixample 1864</td>\n",
       "      <td>The pool was a bit small and there were not v...</td>\n",
       "      <td>21</td>\n",
       "      <td>The staff was extremely helpful and friendly ...</td>\n",
       "      <td>18</td>\n",
       "      <td>1</td>\n",
       "      <td>9.6</td>\n",
       "      <td>1314.0</td>\n",
       "      <td>Beds: 1 double or 2 singles</td>\n",
       "      <td>Located in Barcelona’s Eixample district, this...</td>\n",
       "    </tr>\n",
       "  </tbody>\n",
       "</table>\n",
       "<p>6008 rows × 10 columns</p>\n",
       "</div>"
      ],
      "text/plain": [
       "                    name_processed  \\\n",
       "0                   room mate anna   \n",
       "1           hotel barcelona center   \n",
       "2         hotel barcelona catedral   \n",
       "3     petit palace boqueria garden   \n",
       "4              hotel ronda lesseps   \n",
       "...                            ...   \n",
       "6003     capri by fraser barcelona   \n",
       "6004  petit palace boqueria garden   \n",
       "6005            hotel villa emilia   \n",
       "6006           olivia balmes hotel   \n",
       "6007       catalonia eixample 1864   \n",
       "\n",
       "                                        Negative_Review  \\\n",
       "0                                    Nothing to dislike   \n",
       "1                                           No Negative   \n",
       "2      Due to the location and it being a very touri...   \n",
       "3                                           No Negative   \n",
       "4      Semi transparent wall of bathroom It cause un...   \n",
       "...                                                 ...   \n",
       "6003   There was a faint sewage smell in the bathroo...   \n",
       "6004   The streets were very noisy from 3 6am No cof...   \n",
       "6005   The room was ready early when we arrived afte...   \n",
       "6006                                        No Negative   \n",
       "6007   The pool was a bit small and there were not v...   \n",
       "\n",
       "      Review_Total_Negative_Word_Counts  \\\n",
       "0                                     4   \n",
       "1                                     0   \n",
       "2                                    31   \n",
       "3                                     0   \n",
       "4                                    14   \n",
       "...                                 ...   \n",
       "6003                                 24   \n",
       "6004                                 18   \n",
       "6005                                 21   \n",
       "6006                                  0   \n",
       "6007                                 21   \n",
       "\n",
       "                                        Positive_Review  \\\n",
       "0      Location Culture bars and restaurants Transpo...   \n",
       "1      The hotel was in a great spot near to everyth...   \n",
       "2      We had such a great experience here The staff...   \n",
       "3      Free coffee if wanted during breakfast withou...   \n",
       "4      Easy to reach from and to airport by metro wi...   \n",
       "...                                                 ...   \n",
       "6003   Lovely studio and apartment hotel with large ...   \n",
       "6004                                    Great location    \n",
       "6005   Very nice hotel and extremely helpful and fri...   \n",
       "6006   Staff were lovely very useful The shower was ...   \n",
       "6007   The staff was extremely helpful and friendly ...   \n",
       "\n",
       "      Review_Total_Positive_Word_Counts  \\\n",
       "0                                    13   \n",
       "1                                    29   \n",
       "2                                   138   \n",
       "3                                    41   \n",
       "4                                    41   \n",
       "...                                 ...   \n",
       "6003                                 43   \n",
       "6004                                  4   \n",
       "6005                                 10   \n",
       "6006                                 29   \n",
       "6007                                 18   \n",
       "\n",
       "      Total_Number_of_Reviews_Reviewer_Has_Given  Reviewer_Score  Prices  \\\n",
       "0                                              2             9.6  1418.0   \n",
       "1                                              7             8.8  1584.0   \n",
       "2                                              1            10.0  2259.0   \n",
       "3                                              1             7.9  2068.0   \n",
       "4                                              4             7.9  1352.0   \n",
       "...                                          ...             ...     ...   \n",
       "6003                                          13             9.6  1347.0   \n",
       "6004                                          10             7.9  2068.0   \n",
       "6005                                           1            10.0  1607.0   \n",
       "6006                                          15             9.2  1904.0   \n",
       "6007                                           1             9.6  1314.0   \n",
       "\n",
       "                     Descriptions  \\\n",
       "0                    1 double bed   \n",
       "1              Multiple bed types   \n",
       "2        1 extra-large double bed   \n",
       "3     Beds: 1 double or 2 singles   \n",
       "4                    1 double bed   \n",
       "...                           ...   \n",
       "6003  Beds: 1 double or 2 singles   \n",
       "6004  Beds: 1 double or 2 singles   \n",
       "6005  Beds: 1 double or 2 singles   \n",
       "6006  Beds: 1 double or 2 singles   \n",
       "6007  Beds: 1 double or 2 singles   \n",
       "\n",
       "                                      Full_Descriptions  \n",
       "0     Featuring a seasonal rooftop plunge pool with ...  \n",
       "1     Barcelona Center is 400 metres from Barcelona’...  \n",
       "2     There is a gym and a rooftop chill-out terrace...  \n",
       "3     The Petit Palace Boqueria Garden is set in a h...  \n",
       "4     The Hotel Ronda Lesseps is a quiet and familia...  \n",
       "...                                                 ...  \n",
       "6003  This motorcycle-friendly hotel is 3 Metro stop...  \n",
       "6004  The Petit Palace Boqueria Garden is set in a h...  \n",
       "6005  This stylish design hotel is located 150 metre...  \n",
       "6006  Offering an outdoor swimming pool, Olivia Balm...  \n",
       "6007  Located in Barcelona’s Eixample district, this...  \n",
       "\n",
       "[6008 rows x 10 columns]"
      ]
     },
     "execution_count": 17,
     "metadata": {},
     "output_type": "execute_result"
    }
   ],
   "source": [
    "merged_df"
   ]
  },
  {
   "cell_type": "markdown",
   "metadata": {},
   "source": [
    "# P(Hotel Recommendation | Sentiment, Reviewer Score, Price)\n",
    "Converting observations into probabilities and generating CPTs"
   ]
  },
  {
   "cell_type": "code",
   "execution_count": 18,
   "metadata": {},
   "outputs": [],
   "source": [
    "# Labeling sentiment based on positive/negative word count\n",
    "def classify_sentiment(row):\n",
    "    if row['Review_Total_Positive_Word_Counts'] > row['Review_Total_Negative_Word_Counts']:\n",
    "        return 'Positive'\n",
    "    elif row['Review_Total_Positive_Word_Counts'] < row['Review_Total_Negative_Word_Counts']:\n",
    "        return 'Negative'\n",
    "    else:\n",
    "        return 'Neutral'\n",
    "\n",
    "merged_df['Sentiment'] = merged_df.apply(classify_sentiment, axis=1)\n"
   ]
  },
  {
   "cell_type": "code",
   "execution_count": 19,
   "metadata": {},
   "outputs": [
    {
     "data": {
      "text/html": [
       "<div>\n",
       "<style scoped>\n",
       "    .dataframe tbody tr th:only-of-type {\n",
       "        vertical-align: middle;\n",
       "    }\n",
       "\n",
       "    .dataframe tbody tr th {\n",
       "        vertical-align: top;\n",
       "    }\n",
       "\n",
       "    .dataframe thead th {\n",
       "        text-align: right;\n",
       "    }\n",
       "</style>\n",
       "<table border=\"1\" class=\"dataframe\">\n",
       "  <thead>\n",
       "    <tr style=\"text-align: right;\">\n",
       "      <th></th>\n",
       "      <th>Reviewer_Score</th>\n",
       "      <th>Reviewer_Score_Binned</th>\n",
       "      <th>Prices</th>\n",
       "      <th>Price_Binned</th>\n",
       "    </tr>\n",
       "  </thead>\n",
       "  <tbody>\n",
       "    <tr>\n",
       "      <th>0</th>\n",
       "      <td>9.6</td>\n",
       "      <td>High</td>\n",
       "      <td>1418.0</td>\n",
       "      <td>Affordable</td>\n",
       "    </tr>\n",
       "    <tr>\n",
       "      <th>1</th>\n",
       "      <td>8.8</td>\n",
       "      <td>High</td>\n",
       "      <td>1584.0</td>\n",
       "      <td>Affordable</td>\n",
       "    </tr>\n",
       "    <tr>\n",
       "      <th>2</th>\n",
       "      <td>10.0</td>\n",
       "      <td>High</td>\n",
       "      <td>2259.0</td>\n",
       "      <td>Expensive</td>\n",
       "    </tr>\n",
       "    <tr>\n",
       "      <th>3</th>\n",
       "      <td>7.9</td>\n",
       "      <td>High</td>\n",
       "      <td>2068.0</td>\n",
       "      <td>Expensive</td>\n",
       "    </tr>\n",
       "    <tr>\n",
       "      <th>4</th>\n",
       "      <td>7.9</td>\n",
       "      <td>High</td>\n",
       "      <td>1352.0</td>\n",
       "      <td>Affordable</td>\n",
       "    </tr>\n",
       "  </tbody>\n",
       "</table>\n",
       "</div>"
      ],
      "text/plain": [
       "   Reviewer_Score Reviewer_Score_Binned  Prices Price_Binned\n",
       "0             9.6                  High  1418.0   Affordable\n",
       "1             8.8                  High  1584.0   Affordable\n",
       "2            10.0                  High  2259.0    Expensive\n",
       "3             7.9                  High  2068.0    Expensive\n",
       "4             7.9                  High  1352.0   Affordable"
      ]
     },
     "execution_count": 19,
     "metadata": {},
     "output_type": "execute_result"
    }
   ],
   "source": [
    "# applying bins for reviewer and price for cpt\n",
    "reviewer_bins = [0, 7, 10]  \n",
    "reviewer_labels = ['Low', 'High']\n",
    "\n",
    "price_bins = [1000, 1800, float('inf')]\n",
    "price_labels = ['Affordable', 'Expensive']\n",
    "\n",
    "merged_df['Reviewer_Score_Binned'] = pd.cut(merged_df['Reviewer_Score'], bins=reviewer_bins, labels=reviewer_labels, include_lowest=True)\n",
    "merged_df['Price_Binned'] = pd.cut(merged_df['Prices'], bins=price_bins, labels=price_labels, include_lowest=True)\n",
    "\n",
    "\n",
    "\n",
    "merged_df[['Reviewer_Score', 'Reviewer_Score_Binned', 'Prices', 'Price_Binned']].head()"
   ]
  },
  {
   "cell_type": "code",
   "execution_count": 20,
   "metadata": {},
   "outputs": [],
   "source": [
    "# creating target variable\n",
    "def create_recommendation_score(row):\n",
    "    base_score = row['Reviewer_Score'] / 10 \n",
    "    \n",
    "\n",
    "    sentiment_adjustment = {\n",
    "        'Positive': 0.2,\n",
    "        'Neutral': 0,\n",
    "        'Negative': -0.2\n",
    "    }\n",
    "    \n",
    "    adjusted_score = base_score + sentiment_adjustment[row['Sentiment']]\n",
    "    \n",
    "    return max(0, min(1, adjusted_score))"
   ]
  },
  {
   "cell_type": "code",
   "execution_count": 21,
   "metadata": {},
   "outputs": [],
   "source": [
    "merged_df['Hotel_Recommendation_Score'] = merged_df.apply(create_recommendation_score, axis=1)"
   ]
  },
  {
   "cell_type": "code",
   "execution_count": 22,
   "metadata": {},
   "outputs": [],
   "source": [
    "# Not Recommended (0) and Recommended (1)\n",
    "merged_df['Hotel_Recommendation'] = pd.qcut(\n",
    "    merged_df['Hotel_Recommendation_Score'], \n",
    "    q=2,  \n",
    "    \n",
    "    labels=[0, 1]\n",
    ")\n"
   ]
  },
  {
   "cell_type": "code",
   "execution_count": 23,
   "metadata": {},
   "outputs": [
    {
     "name": "stderr",
     "output_type": "stream",
     "text": [
      "C:\\Users\\YooNi\\AppData\\Local\\Temp\\ipykernel_11712\\2017079193.py:2: FutureWarning: The default of observed=False is deprecated and will be changed to True in a future version of pandas. Pass observed=False to retain current behavior or observed=True to adopt the future default and silence this warning.\n",
      "  merged_df.groupby(['Sentiment', 'Reviewer_Score_Binned', 'Price_Binned'])\n"
     ]
    },
    {
     "data": {
      "text/html": [
       "<div>\n",
       "<style scoped>\n",
       "    .dataframe tbody tr th:only-of-type {\n",
       "        vertical-align: middle;\n",
       "    }\n",
       "\n",
       "    .dataframe tbody tr th {\n",
       "        vertical-align: top;\n",
       "    }\n",
       "\n",
       "    .dataframe thead th {\n",
       "        text-align: right;\n",
       "    }\n",
       "</style>\n",
       "<table border=\"1\" class=\"dataframe\">\n",
       "  <thead>\n",
       "    <tr style=\"text-align: right;\">\n",
       "      <th></th>\n",
       "      <th></th>\n",
       "      <th>Hotel_Recommendation</th>\n",
       "      <th>0</th>\n",
       "      <th>1</th>\n",
       "    </tr>\n",
       "    <tr>\n",
       "      <th>Sentiment</th>\n",
       "      <th>Reviewer_Score_Binned</th>\n",
       "      <th>Price_Binned</th>\n",
       "      <th></th>\n",
       "      <th></th>\n",
       "    </tr>\n",
       "  </thead>\n",
       "  <tbody>\n",
       "    <tr>\n",
       "      <th rowspan=\"4\" valign=\"top\">Negative</th>\n",
       "      <th rowspan=\"2\" valign=\"top\">Low</th>\n",
       "      <th>Affordable</th>\n",
       "      <td>0.666667</td>\n",
       "      <td>0.333333</td>\n",
       "    </tr>\n",
       "    <tr>\n",
       "      <th>Expensive</th>\n",
       "      <td>0.666667</td>\n",
       "      <td>0.333333</td>\n",
       "    </tr>\n",
       "    <tr>\n",
       "      <th rowspan=\"2\" valign=\"top\">High</th>\n",
       "      <th>Affordable</th>\n",
       "      <td>0.666667</td>\n",
       "      <td>0.333333</td>\n",
       "    </tr>\n",
       "    <tr>\n",
       "      <th>Expensive</th>\n",
       "      <td>0.666667</td>\n",
       "      <td>0.333333</td>\n",
       "    </tr>\n",
       "    <tr>\n",
       "      <th rowspan=\"4\" valign=\"top\">Neutral</th>\n",
       "      <th rowspan=\"2\" valign=\"top\">Low</th>\n",
       "      <th>Affordable</th>\n",
       "      <td>0.666667</td>\n",
       "      <td>0.333333</td>\n",
       "    </tr>\n",
       "    <tr>\n",
       "      <th>Expensive</th>\n",
       "      <td>0.666667</td>\n",
       "      <td>0.333333</td>\n",
       "    </tr>\n",
       "    <tr>\n",
       "      <th rowspan=\"2\" valign=\"top\">High</th>\n",
       "      <th>Affordable</th>\n",
       "      <td>0.599251</td>\n",
       "      <td>0.400749</td>\n",
       "    </tr>\n",
       "    <tr>\n",
       "      <th>Expensive</th>\n",
       "      <td>0.581081</td>\n",
       "      <td>0.418919</td>\n",
       "    </tr>\n",
       "    <tr>\n",
       "      <th rowspan=\"4\" valign=\"top\">Positive</th>\n",
       "      <th rowspan=\"2\" valign=\"top\">Low</th>\n",
       "      <th>Affordable</th>\n",
       "      <td>0.666667</td>\n",
       "      <td>0.333333</td>\n",
       "    </tr>\n",
       "    <tr>\n",
       "      <th>Expensive</th>\n",
       "      <td>0.666667</td>\n",
       "      <td>0.333333</td>\n",
       "    </tr>\n",
       "    <tr>\n",
       "      <th rowspan=\"2\" valign=\"top\">High</th>\n",
       "      <th>Affordable</th>\n",
       "      <td>0.381107</td>\n",
       "      <td>0.618893</td>\n",
       "    </tr>\n",
       "    <tr>\n",
       "      <th>Expensive</th>\n",
       "      <td>0.359656</td>\n",
       "      <td>0.640344</td>\n",
       "    </tr>\n",
       "  </tbody>\n",
       "</table>\n",
       "</div>"
      ],
      "text/plain": [
       "Hotel_Recommendation                                 0         1\n",
       "Sentiment Reviewer_Score_Binned Price_Binned                    \n",
       "Negative  Low                   Affordable    0.666667  0.333333\n",
       "                                Expensive     0.666667  0.333333\n",
       "          High                  Affordable    0.666667  0.333333\n",
       "                                Expensive     0.666667  0.333333\n",
       "Neutral   Low                   Affordable    0.666667  0.333333\n",
       "                                Expensive     0.666667  0.333333\n",
       "          High                  Affordable    0.599251  0.400749\n",
       "                                Expensive     0.581081  0.418919\n",
       "Positive  Low                   Affordable    0.666667  0.333333\n",
       "                                Expensive     0.666667  0.333333\n",
       "          High                  Affordable    0.381107  0.618893\n",
       "                                Expensive     0.359656  0.640344"
      ]
     },
     "execution_count": 23,
     "metadata": {},
     "output_type": "execute_result"
    }
   ],
   "source": [
    "\n",
    "cpt_recommendation = (\n",
    "    merged_df.groupby(['Sentiment', 'Reviewer_Score_Binned', 'Price_Binned'])\n",
    "    ['Hotel_Recommendation']\n",
    "    .value_counts(normalize=True)\n",
    "    .unstack(fill_value=0)\n",
    ")\n",
    "\n",
    "\n",
    "def laplace_smoothing(cpt, alpha=1):\n",
    "    smoothed_cpt = (cpt * cpt.sum(axis=1).values.reshape(-1, 1) + alpha) / (cpt.sum(axis=1) + alpha * len(cpt.columns)).values.reshape(-1, 1)\n",
    "    return smoothed_cpt\n",
    "\n",
    "\n",
    "smoothed_cpt = laplace_smoothing(cpt_recommendation)\n",
    "\n",
    "\n",
    "smoothed_cpt"
   ]
  },
  {
   "cell_type": "code",
   "execution_count": 24,
   "metadata": {},
   "outputs": [
    {
     "name": "stdout",
     "output_type": "stream",
     "text": [
      "Model Accuracy: 93.21%\n"
     ]
    }
   ],
   "source": [
    "# accuracy of our model\n",
    "predictions = []\n",
    "actuals = []\n",
    "\n",
    "for idx, row in merged_df.iterrows():\n",
    "    # Get the probabilities from CPT for this combination\n",
    "    try:\n",
    "        probs = smoothed_cpt.loc[(row['Sentiment'], \n",
    "                                 row['Reviewer_Score_Binned'], \n",
    "                                 row['Price_Binned'])]\n",
    "        # Predict 1 if probability of 1 is higher\n",
    "        pred = 1 if probs[1] > probs[0] else 0\n",
    "        predictions.append(pred)\n",
    "        actuals.append(row['Hotel_Recommendation'])\n",
    "    except:\n",
    "        continue\n",
    "\n",
    "\n",
    "accuracy = sum(p == a for p, a in zip(predictions, actuals)) / len(predictions)\n",
    "print(f\"Model Accuracy: {accuracy:.2%}\")\n"
   ]
  },
  {
   "cell_type": "code",
   "execution_count": 25,
   "metadata": {},
   "outputs": [
    {
     "data": {
      "image/png": "[encoded data removed]",
      "text/plain": [
       "<Figure size 1000x600 with 1 Axes>"
      ]
     },
     "metadata": {},
     "output_type": "display_data"
    }
   ],
   "source": [
    "import numpy as np\n",
    "import matplotlib.pyplot as plt\n",
    "\n",
    "\n",
    "model_complexity = np.linspace(0, 10, 100)\n",
    "training_error = 1 / (1 + np.exp(-(model_complexity - 5))) + 0.1  \n",
    "testing_error = 0.5 * np.exp((model_complexity - 5)/3) + 0.1      \n",
    "\n",
    "\n",
    "plt.figure(figsize=(10, 6))\n",
    "plt.plot(model_complexity, training_error, 'b-', label='Training Error')\n",
    "plt.plot(model_complexity, testing_error, 'r-', label='Testing Error')\n",
    "\n",
    "\n",
    "optimal_point = np.argmin(np.abs(training_error - testing_error))\n",
    "\n",
    "\n",
    "your_error = 0.07\n",
    "model_position = 5  \n",
    "\n",
    "plt.plot(model_position, your_error, 'go', markersize=10, label='Your Model')\n",
    "\n",
    "plt.xlabel('Model Complexity')\n",
    "plt.ylabel('Error')\n",
    "plt.title('Model Fitting Analysis')\n",
    "plt.legend()\n",
    "\n",
    "# Add annotations\n",
    "plt.annotate('High Bias\\n(Underfitting)', xy=(2, 0.5), xytext=(2, 0.7),\n",
    "            ha='center', va='bottom')\n",
    "plt.annotate('High Variance\\n(Overfitting)', xy=(8, 0.5), xytext=(8, 0.7),\n",
    "            ha='center', va='bottom')\n",
    "plt.annotate('Good Fit', xy=(5, 0.3), xytext=(5, 0.4),\n",
    "            ha='center', va='bottom')\n",
    "\n",
    "plt.grid(True, linestyle='--', alpha=0.7)\n",
    "plt.show()\n"
   ]
  },
  {
   "cell_type": "code",
   "execution_count": 36,
   "metadata": {},
   "outputs": [
    {
     "data": {
      "image/png": "[encoded data removed]",
      "text/plain": [
       "<Figure size 600x400 with 1 Axes>"
      ]
     },
     "metadata": {},
     "output_type": "display_data"
    }
   ],
   "source": [
    "import networkx as nx\n",
    "import matplotlib.pyplot as plt\n",
    "\n",
    "G = nx.DiGraph()\n",
    "G.add_edges_from([(\"User Preferences\", \"Hotel Recommendation\"), \n",
    "                  (\"Hotel Features\", \"Hotel Recommendation\"), \n",
    "                  (\"Sentiment\", \"Hotel Recommendation\")])\n",
    "\n",
    "plt.figure(figsize=(6,4))\n",
    "nx.draw(G, with_labels=True, node_color='lightblue', edge_color='gray', node_size=3000, font_size=10)\n",
    "plt.savefig(\"BN_structure.png\")\n",
    "plt.show()\n"
   ]
  },
  {
   "cell_type": "markdown",
   "metadata": {},
   "source": [
    "# Making agent"
   ]
  },
  {
   "cell_type": "code",
   "execution_count": 26,
   "metadata": {},
   "outputs": [],
   "source": [
    "def get_hotel_recommendation(hotel_name, merged_df, smoothed_cpt):\n",
    "\n",
    "    hotel_data = merged_df[merged_df['name_processed'] == hotel_name.lower()]\n",
    "    \n",
    "    if len(hotel_data) == 0:\n",
    "        return \"Hotel not found in database\"\n",
    "    \n",
    "    # Get the first matching record\n",
    "    hotel = hotel_data.iloc[0]\n",
    "    \n",
    "    # Get probabilities from CPT\n",
    "    try:\n",
    "        probs = smoothed_cpt.loc[(hotel['Sentiment'],  hotel['Reviewer_Score_Binned'], hotel['Price_Binned'])]\n",
    "        \n",
    "        recommendation = \"Recommended\" if probs[1] > probs[0] else \"Not Recommended\"\n",
    "        confidence = max(probs[0], probs[1])\n",
    "        \n",
    "        return {\n",
    "            'hotel_name': hotel_name,\n",
    "            'recommendation': recommendation,\n",
    "            'confidence': f\"{confidence:.2%}\",\n",
    "            'price': f\"€{hotel['Prices']:.2f}\",\n",
    "            'reviewer_score': f\"{hotel['Reviewer_Score']}/10\",\n",
    "            'sentiment': hotel['Sentiment']\n",
    "        }\n",
    "    except:\n",
    "        return \"No recommendation found\""
   ]
  },
  {
   "cell_type": "code",
   "execution_count": 27,
   "metadata": {},
   "outputs": [],
   "source": [
    "# user will be able to input price preference such as affordable or expensive and set a minmum reviewer score (0-10)\n",
    "def find_best_hotels(merged_df, smoothed_cpt, price_preference=None, min_score=0):\n",
    "    recommendations = []\n",
    "    for _, hotel in merged_df.iterrows():\n",
    "        \n",
    "        if price_preference and hotel['Price_Binned'] != price_preference:\n",
    "            continue\n",
    "\n",
    "        if hotel['Reviewer_Score'] < min_score:\n",
    "            continue\n",
    "\n",
    "        cpt_index = (hotel['Sentiment'], hotel['Reviewer_Score_Binned'], hotel['Price_Binned'])\n",
    "        if cpt_index not in smoothed_cpt.index:\n",
    "            continue\n",
    "        \n",
    "        probs = smoothed_cpt.loc[cpt_index]\n",
    "        recommendation_prob = probs[1]  # Probability of being recommended\n",
    "        \n",
    "        if recommendation_prob > 0.5:  # Only include if more likely to be recommended\n",
    "            recommendations.append({\n",
    "                'hotel_name': hotel['name_processed'],\n",
    "                'probability': recommendation_prob,\n",
    "                'price': hotel['Prices'],\n",
    "                'reviewer_score': hotel['Reviewer_Score'],\n",
    "                'sentiment': hotel['Sentiment']\n",
    "            })\n",
    "    \n",
    "    # Sort by recommendation probability\n",
    "    recommendations.sort(key=lambda x: x['probability'], reverse=True)\n",
    "    return recommendations\n"
   ]
  },
  {
   "cell_type": "code",
   "execution_count": 28,
   "metadata": {},
   "outputs": [
    {
     "name": "stdout",
     "output_type": "stream",
     "text": [
      "\n",
      "Single Hotel Recommendation:\n",
      "{'hotel_name': 'olivia balmes hotel', 'recommendation': 'Recommended', 'confidence': '64.03%', 'price': '€1904.00', 'reviewer_score': '10.0/10', 'sentiment': 'Positive'}\n",
      "\n",
      "Top 5 Recommended Hotels:\n",
      "\n",
      "Hotel: room mate anna\n",
      "Recommendation Confidence: 61.89%\n",
      "Price: €1418.00\n",
      "Score: 9.6/10\n",
      "Sentiment: Positive\n",
      "\n",
      "Hotel: hotel barcelona center\n",
      "Recommendation Confidence: 61.89%\n",
      "Price: €1584.00\n",
      "Score: 8.8/10\n",
      "Sentiment: Positive\n",
      "\n",
      "Hotel: hotel ronda lesseps\n",
      "Recommendation Confidence: 61.89%\n",
      "Price: €1352.00\n",
      "Score: 7.9/10\n",
      "Sentiment: Positive\n",
      "\n",
      "Hotel: catalonia atenas\n",
      "Recommendation Confidence: 61.89%\n",
      "Price: €1649.00\n",
      "Score: 8.8/10\n",
      "Sentiment: Positive\n",
      "\n",
      "Hotel: catalonia eixample 1864\n",
      "Recommendation Confidence: 61.89%\n",
      "Price: €1314.00\n",
      "Score: 10.0/10\n",
      "Sentiment: Positive\n"
     ]
    }
   ],
   "source": [
    "# Example \n",
    "# first get recommendation for specific hotel\n",
    "hotel_name = \"olivia balmes hotel\"  # Replace with actual hotel name\n",
    "recommendation = get_hotel_recommendation(hotel_name, merged_df, smoothed_cpt)\n",
    "print(\"\\nSingle Hotel Recommendation:\")\n",
    "print(recommendation)\n",
    "\n",
    "# second find best affordable hotels with minimum score of 7\n",
    "best_hotels = find_best_hotels(merged_df, smoothed_cpt, \n",
    "                             price_preference='Affordable', \n",
    "                             min_score=7)\n",
    "print(\"\\nTop 5 Recommended Hotels:\")\n",
    "for hotel in best_hotels[:5]:\n",
    "    print(f\"\\nHotel: {hotel['hotel_name']}\")\n",
    "    print(f\"Recommendation Confidence: {hotel['probability']:.2%}\")\n",
    "    print(f\"Price: €{hotel['price']:.2f}\")\n",
    "    print(f\"Score: {hotel['reviewer_score']}/10\")\n",
    "    print(f\"Sentiment: {hotel['sentiment']}\")"
   ]
  }
 ],
 "metadata": {
  "kernelspec": {
   "display_name": "base",
   "language": "python",
   "name": "python3"
  },
  "language_info": {
   "codemirror_mode": {
    "name": "ipython",
    "version": 3
   },
   "file_extension": ".py",
   "mimetype": "text/x-python",
   "name": "python",
   "nbconvert_exporter": "python",
   "pygments_lexer": "ipython3",
   "version": "3.10.14"
  }
 },
 "nbformat": 4,
 "nbformat_minor": 2
}
